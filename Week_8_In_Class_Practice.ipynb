{
 "cells": [
  {
   "cell_type": "raw",
   "metadata": {},
   "source": [
    "© Copyright 2022, Mohamed Ibrahim Mohamed\n",
    "All rights reserved."
   ]
  },
  {
   "cell_type": "markdown",
   "metadata": {},
   "source": [
    "# Week 8\n",
    "## Classification\n",
    "#### In-class practice excercise\n",
    "Train a classifier to learn the rock types in core data"
   ]
  },
  {
   "cell_type": "code",
   "execution_count": 1,
   "metadata": {},
   "outputs": [],
   "source": [
    "import matplotlib\n",
    "import matplotlib.pyplot as plt\n",
    "import numpy as np\n",
    "import pandas as pd"
   ]
  },
  {
   "cell_type": "markdown",
   "metadata": {},
   "source": [
    "Load data from XLSX file from a specific Sheet"
   ]
  },
  {
   "cell_type": "code",
   "execution_count": 2,
   "metadata": {},
   "outputs": [
    {
     "data": {
      "text/html": [
       "<div>\n",
       "<style scoped>\n",
       "    .dataframe tbody tr th:only-of-type {\n",
       "        vertical-align: middle;\n",
       "    }\n",
       "\n",
       "    .dataframe tbody tr th {\n",
       "        vertical-align: top;\n",
       "    }\n",
       "\n",
       "    .dataframe thead th {\n",
       "        text-align: right;\n",
       "    }\n",
       "</style>\n",
       "<table border=\"1\" class=\"dataframe\">\n",
       "  <thead>\n",
       "    <tr style=\"text-align: right;\">\n",
       "      <th></th>\n",
       "      <th>Porosity</th>\n",
       "      <th>TOC</th>\n",
       "      <th>Quartz</th>\n",
       "      <th>Calcite</th>\n",
       "      <th>RockClass</th>\n",
       "    </tr>\n",
       "    <tr>\n",
       "      <th>Depth</th>\n",
       "      <th></th>\n",
       "      <th></th>\n",
       "      <th></th>\n",
       "      <th></th>\n",
       "      <th></th>\n",
       "    </tr>\n",
       "  </thead>\n",
       "  <tbody>\n",
       "    <tr>\n",
       "      <th>4644.985</th>\n",
       "      <td>6.67</td>\n",
       "      <td>4.15</td>\n",
       "      <td>38.6</td>\n",
       "      <td>0.0</td>\n",
       "      <td>SS</td>\n",
       "    </tr>\n",
       "    <tr>\n",
       "      <th>4647.085</th>\n",
       "      <td>6.07</td>\n",
       "      <td>4.25</td>\n",
       "      <td>48.6</td>\n",
       "      <td>6.2</td>\n",
       "      <td>SS</td>\n",
       "    </tr>\n",
       "    <tr>\n",
       "      <th>4649.185</th>\n",
       "      <td>4.91</td>\n",
       "      <td>3.40</td>\n",
       "      <td>41.0</td>\n",
       "      <td>2.5</td>\n",
       "      <td>SS</td>\n",
       "    </tr>\n",
       "    <tr>\n",
       "      <th>4651.285</th>\n",
       "      <td>6.00</td>\n",
       "      <td>0.39</td>\n",
       "      <td>4.6</td>\n",
       "      <td>66.4</td>\n",
       "      <td>LS</td>\n",
       "    </tr>\n",
       "    <tr>\n",
       "      <th>4653.490</th>\n",
       "      <td>5.63</td>\n",
       "      <td>-999.00</td>\n",
       "      <td>37.0</td>\n",
       "      <td>0.6</td>\n",
       "      <td>SS</td>\n",
       "    </tr>\n",
       "  </tbody>\n",
       "</table>\n",
       "</div>"
      ],
      "text/plain": [
       "          Porosity     TOC  Quartz  Calcite RockClass\n",
       "Depth                                                \n",
       "4644.985      6.67    4.15    38.6      0.0        SS\n",
       "4647.085      6.07    4.25    48.6      6.2        SS\n",
       "4649.185      4.91    3.40    41.0      2.5        SS\n",
       "4651.285      6.00    0.39     4.6     66.4        LS\n",
       "4653.490      5.63 -999.00    37.0      0.6        SS"
      ]
     },
     "execution_count": 2,
     "metadata": {},
     "output_type": "execute_result"
    }
   ],
   "source": [
    "c=pd.read_excel('Core_SM.xlsx',sheet_name='Data',index_col=0) # choose col 0 as index\n",
    "c.head()"
   ]
  },
  {
   "cell_type": "markdown",
   "metadata": {},
   "source": [
    "make the depth column an index, it is a good practice"
   ]
  },
  {
   "cell_type": "code",
   "execution_count": 4,
   "metadata": {},
   "outputs": [],
   "source": [
    "c.index.name='Depth' # name col 0 i.e. the index col. as Depth"
   ]
  },
  {
   "cell_type": "code",
   "execution_count": 9,
   "metadata": {},
   "outputs": [
    {
     "data": {
      "text/plain": [
       "array(['SS', 'LS', 'DO'], dtype=object)"
      ]
     },
     "execution_count": 9,
     "metadata": {},
     "output_type": "execute_result"
    }
   ],
   "source": [
    "# Investigate the unique items in rock class column\n",
    "c['RockClass'].unique()"
   ]
  },
  {
   "cell_type": "code",
   "execution_count": 7,
   "metadata": {},
   "outputs": [
    {
     "data": {
      "text/html": [
       "<div>\n",
       "<style scoped>\n",
       "    .dataframe tbody tr th:only-of-type {\n",
       "        vertical-align: middle;\n",
       "    }\n",
       "\n",
       "    .dataframe tbody tr th {\n",
       "        vertical-align: top;\n",
       "    }\n",
       "\n",
       "    .dataframe thead th {\n",
       "        text-align: right;\n",
       "    }\n",
       "</style>\n",
       "<table border=\"1\" class=\"dataframe\">\n",
       "  <thead>\n",
       "    <tr style=\"text-align: right;\">\n",
       "      <th></th>\n",
       "      <th>Porosity</th>\n",
       "      <th>TOC</th>\n",
       "      <th>Quartz</th>\n",
       "      <th>Calcite</th>\n",
       "    </tr>\n",
       "  </thead>\n",
       "  <tbody>\n",
       "    <tr>\n",
       "      <th>count</th>\n",
       "      <td>157.000000</td>\n",
       "      <td>167.000000</td>\n",
       "      <td>167.000000</td>\n",
       "      <td>167.000000</td>\n",
       "    </tr>\n",
       "    <tr>\n",
       "      <th>mean</th>\n",
       "      <td>4.288153</td>\n",
       "      <td>-56.233473</td>\n",
       "      <td>27.963473</td>\n",
       "      <td>12.122156</td>\n",
       "    </tr>\n",
       "    <tr>\n",
       "      <th>std</th>\n",
       "      <td>1.372243</td>\n",
       "      <td>238.653729</td>\n",
       "      <td>13.875863</td>\n",
       "      <td>19.819573</td>\n",
       "    </tr>\n",
       "    <tr>\n",
       "      <th>min</th>\n",
       "      <td>0.880000</td>\n",
       "      <td>-999.000000</td>\n",
       "      <td>0.000000</td>\n",
       "      <td>0.000000</td>\n",
       "    </tr>\n",
       "    <tr>\n",
       "      <th>25%</th>\n",
       "      <td>3.420000</td>\n",
       "      <td>2.455000</td>\n",
       "      <td>17.450000</td>\n",
       "      <td>0.000000</td>\n",
       "    </tr>\n",
       "    <tr>\n",
       "      <th>50%</th>\n",
       "      <td>4.380000</td>\n",
       "      <td>3.720000</td>\n",
       "      <td>29.700000</td>\n",
       "      <td>2.400000</td>\n",
       "    </tr>\n",
       "    <tr>\n",
       "      <th>75%</th>\n",
       "      <td>5.230000</td>\n",
       "      <td>4.915000</td>\n",
       "      <td>38.300000</td>\n",
       "      <td>12.700000</td>\n",
       "    </tr>\n",
       "    <tr>\n",
       "      <th>max</th>\n",
       "      <td>8.050000</td>\n",
       "      <td>7.480000</td>\n",
       "      <td>59.400000</td>\n",
       "      <td>78.600000</td>\n",
       "    </tr>\n",
       "  </tbody>\n",
       "</table>\n",
       "</div>"
      ],
      "text/plain": [
       "         Porosity         TOC      Quartz     Calcite\n",
       "count  157.000000  167.000000  167.000000  167.000000\n",
       "mean     4.288153  -56.233473   27.963473   12.122156\n",
       "std      1.372243  238.653729   13.875863   19.819573\n",
       "min      0.880000 -999.000000    0.000000    0.000000\n",
       "25%      3.420000    2.455000   17.450000    0.000000\n",
       "50%      4.380000    3.720000   29.700000    2.400000\n",
       "75%      5.230000    4.915000   38.300000   12.700000\n",
       "max      8.050000    7.480000   59.400000   78.600000"
      ]
     },
     "execution_count": 7,
     "metadata": {},
     "output_type": "execute_result"
    }
   ],
   "source": [
    "# Do statistical description of the dataframe... \n",
    "c.describe()\n",
    "\n",
    "# why is Class Missing? \n",
    "# look at min...and mean\n",
    "# look at the count\n",
    "    \n",
    "# What are you obeservations ?"
   ]
  },
  {
   "cell_type": "markdown",
   "metadata": {},
   "source": [
    "###### Missing Data is Dangerous "
   ]
  },
  {
   "cell_type": "markdown",
   "metadata": {},
   "source": [
    "#### Check Missing Values"
   ]
  },
  {
   "cell_type": "code",
   "execution_count": 8,
   "metadata": {},
   "outputs": [
    {
     "data": {
      "text/plain": [
       "Porosity      True\n",
       "TOC          False\n",
       "Quartz       False\n",
       "Calcite      False\n",
       "RockClass    False\n",
       "dtype: bool"
      ]
     },
     "execution_count": 8,
     "metadata": {},
     "output_type": "execute_result"
    }
   ],
   "source": [
    "c.isna().any() #check if NaN are present\n",
    "                # why no nans detected in TOC column?\n",
    "                # only np.nan can be detected"
   ]
  },
  {
   "cell_type": "code",
   "execution_count": 10,
   "metadata": {},
   "outputs": [
    {
     "data": {
      "text/plain": [
       "Float64Index([4665.985000000001, 4704.310000000001, 4753.450000000001,\n",
       "              4773.190000000001, 4873.360000000001, 4936.254999999999,\n",
       "              4938.565000000001,           4978.57,           5012.17,\n",
       "                       5014.375],\n",
       "             dtype='float64', name='Depth')"
      ]
     },
     "execution_count": 10,
     "metadata": {},
     "output_type": "execute_result"
    }
   ],
   "source": [
    "# At what depth Porosity is NaN ?\n",
    "\n",
    "c[np.isnan(c[\"Porosity\"])==True].index"
   ]
  },
  {
   "cell_type": "code",
   "execution_count": 11,
   "metadata": {},
   "outputs": [],
   "source": [
    "# provide a list of items that should be considered as missing.\n",
    "# using inplace to save the replacement of various missing values.\n",
    "\n",
    "c.replace([np.inf, -np.inf, np.inf, -999, 999, '', \" \", 'inf', 'NaN'], np.nan, inplace=True)"
   ]
  },
  {
   "cell_type": "code",
   "execution_count": 12,
   "metadata": {},
   "outputs": [
    {
     "data": {
      "text/plain": [
       "Porosity      True\n",
       "TOC           True\n",
       "Quartz       False\n",
       "Calcite      False\n",
       "RockClass    False\n",
       "dtype: bool"
      ]
     },
     "execution_count": 12,
     "metadata": {},
     "output_type": "execute_result"
    }
   ],
   "source": [
    "c.isna().any() #check if NaN are present"
   ]
  },
  {
   "cell_type": "code",
   "execution_count": null,
   "metadata": {},
   "outputs": [],
   "source": [
    "c.iloc[:,:4].values"
   ]
  },
  {
   "cell_type": "markdown",
   "metadata": {},
   "source": [
    "#### Do not Remove Missing Data"
   ]
  },
  {
   "cell_type": "code",
   "execution_count": 10,
   "metadata": {},
   "outputs": [],
   "source": [
    "# it is not a good idea to drop a column or a row\n",
    "\n",
    "from sklearn.impute import SimpleImputer \n",
    "# imputer looks all columns, finds cells with missing value, and replaces median for the missing value\n",
    "\n",
    "imp = SimpleImputer(missing_values=np.nan,strategy='median')\n",
    "\n",
    "imp.fit(c.iloc[:,:4].values) # understand statistics of the train data\n",
    "\n",
    "a_imp = imp.transform(c.iloc[:,:4].values) # no missing values here\n",
    "\n",
    "c.iloc[:,:4]=a_imp"
   ]
  },
  {
   "cell_type": "markdown",
   "metadata": {},
   "source": [
    "MEAN: Suitable for continuous data without outliers\n",
    "\n",
    "\n",
    "SimpleImputer can be useful in cases where the number of missing observations is low. However, for large number of missing values, using mean or median can result in loss of variation in data and it is better to use imputations. "
   ]
  },
  {
   "cell_type": "code",
   "execution_count": 11,
   "metadata": {},
   "outputs": [],
   "source": [
    "# Do another statistical description of the dataframe after fixing the missing vlaues problem.\n",
    "# look at min...and mean\n",
    "# look at the count    "
   ]
  },
  {
   "cell_type": "code",
   "execution_count": 12,
   "metadata": {},
   "outputs": [],
   "source": [
    "#check if NaN are present"
   ]
  },
  {
   "cell_type": "code",
   "execution_count": null,
   "metadata": {},
   "outputs": [],
   "source": []
  },
  {
   "cell_type": "code",
   "execution_count": 13,
   "metadata": {},
   "outputs": [],
   "source": [
    "# find the depths for which the porosity is greater than 6 and RockClass is Sandstone"
   ]
  },
  {
   "cell_type": "code",
   "execution_count": 14,
   "metadata": {},
   "outputs": [],
   "source": [
    "# masking and slicing\n",
    "\n",
    "# obtain a slice of data for which the porosity is greater than 6 and RockClass is Sandstone"
   ]
  },
  {
   "cell_type": "markdown",
   "metadata": {},
   "source": [
    "### Multi-Label Classification"
   ]
  },
  {
   "cell_type": "markdown",
   "metadata": {},
   "source": [
    "The data now contains only useful features, but they are not in a format that the machine learning algorithms can understand. We need to transform the strings \"SS\", \"LS\" and \"DO\" into numeric/binary variables that indicate the rock class.\n",
    "\n",
    "#### One-hot encoding\n",
    "\n",
    "###### Method 1: We can do that using the pandas get_dummies function on the whole dataframe"
   ]
  },
  {
   "cell_type": "code",
   "execution_count": 15,
   "metadata": {},
   "outputs": [],
   "source": [
    "c_mlabel = pd.get_dummies(c)\n",
    "\n",
    "# looks at columns that are categorical and creates a new column for each new category\n",
    "\n",
    "#  we give each category its own dimension"
   ]
  },
  {
   "cell_type": "code",
   "execution_count": 16,
   "metadata": {},
   "outputs": [
    {
     "data": {
      "text/html": [
       "<div>\n",
       "<style scoped>\n",
       "    .dataframe tbody tr th:only-of-type {\n",
       "        vertical-align: middle;\n",
       "    }\n",
       "\n",
       "    .dataframe tbody tr th {\n",
       "        vertical-align: top;\n",
       "    }\n",
       "\n",
       "    .dataframe thead th {\n",
       "        text-align: right;\n",
       "    }\n",
       "</style>\n",
       "<table border=\"1\" class=\"dataframe\">\n",
       "  <thead>\n",
       "    <tr style=\"text-align: right;\">\n",
       "      <th></th>\n",
       "      <th>Porosity</th>\n",
       "      <th>TOC</th>\n",
       "      <th>Quartz</th>\n",
       "      <th>Calcite</th>\n",
       "      <th>RockClass_DO</th>\n",
       "      <th>RockClass_LS</th>\n",
       "      <th>RockClass_SS</th>\n",
       "    </tr>\n",
       "    <tr>\n",
       "      <th>Depth</th>\n",
       "      <th></th>\n",
       "      <th></th>\n",
       "      <th></th>\n",
       "      <th></th>\n",
       "      <th></th>\n",
       "      <th></th>\n",
       "      <th></th>\n",
       "    </tr>\n",
       "  </thead>\n",
       "  <tbody>\n",
       "    <tr>\n",
       "      <th>4644.985</th>\n",
       "      <td>6.67</td>\n",
       "      <td>4.15</td>\n",
       "      <td>38.6</td>\n",
       "      <td>0.0</td>\n",
       "      <td>0</td>\n",
       "      <td>0</td>\n",
       "      <td>1</td>\n",
       "    </tr>\n",
       "    <tr>\n",
       "      <th>4647.085</th>\n",
       "      <td>6.07</td>\n",
       "      <td>4.25</td>\n",
       "      <td>48.6</td>\n",
       "      <td>6.2</td>\n",
       "      <td>0</td>\n",
       "      <td>0</td>\n",
       "      <td>1</td>\n",
       "    </tr>\n",
       "    <tr>\n",
       "      <th>4649.185</th>\n",
       "      <td>4.91</td>\n",
       "      <td>3.40</td>\n",
       "      <td>41.0</td>\n",
       "      <td>2.5</td>\n",
       "      <td>0</td>\n",
       "      <td>0</td>\n",
       "      <td>1</td>\n",
       "    </tr>\n",
       "    <tr>\n",
       "      <th>4651.285</th>\n",
       "      <td>6.00</td>\n",
       "      <td>0.39</td>\n",
       "      <td>4.6</td>\n",
       "      <td>66.4</td>\n",
       "      <td>0</td>\n",
       "      <td>1</td>\n",
       "      <td>0</td>\n",
       "    </tr>\n",
       "    <tr>\n",
       "      <th>4653.490</th>\n",
       "      <td>5.63</td>\n",
       "      <td>3.91</td>\n",
       "      <td>37.0</td>\n",
       "      <td>0.6</td>\n",
       "      <td>0</td>\n",
       "      <td>0</td>\n",
       "      <td>1</td>\n",
       "    </tr>\n",
       "    <tr>\n",
       "      <th>...</th>\n",
       "      <td>...</td>\n",
       "      <td>...</td>\n",
       "      <td>...</td>\n",
       "      <td>...</td>\n",
       "      <td>...</td>\n",
       "      <td>...</td>\n",
       "      <td>...</td>\n",
       "    </tr>\n",
       "    <tr>\n",
       "      <th>5003.455</th>\n",
       "      <td>3.77</td>\n",
       "      <td>3.91</td>\n",
       "      <td>26.7</td>\n",
       "      <td>15.4</td>\n",
       "      <td>1</td>\n",
       "      <td>0</td>\n",
       "      <td>0</td>\n",
       "    </tr>\n",
       "    <tr>\n",
       "      <th>5004.715</th>\n",
       "      <td>4.60</td>\n",
       "      <td>3.52</td>\n",
       "      <td>31.0</td>\n",
       "      <td>0.0</td>\n",
       "      <td>1</td>\n",
       "      <td>0</td>\n",
       "      <td>0</td>\n",
       "    </tr>\n",
       "    <tr>\n",
       "      <th>5010.490</th>\n",
       "      <td>4.16</td>\n",
       "      <td>2.47</td>\n",
       "      <td>16.0</td>\n",
       "      <td>8.7</td>\n",
       "      <td>1</td>\n",
       "      <td>0</td>\n",
       "      <td>0</td>\n",
       "    </tr>\n",
       "    <tr>\n",
       "      <th>5012.170</th>\n",
       "      <td>4.38</td>\n",
       "      <td>2.32</td>\n",
       "      <td>24.8</td>\n",
       "      <td>19.8</td>\n",
       "      <td>1</td>\n",
       "      <td>0</td>\n",
       "      <td>0</td>\n",
       "    </tr>\n",
       "    <tr>\n",
       "      <th>5014.375</th>\n",
       "      <td>4.38</td>\n",
       "      <td>3.66</td>\n",
       "      <td>20.2</td>\n",
       "      <td>11.9</td>\n",
       "      <td>1</td>\n",
       "      <td>0</td>\n",
       "      <td>0</td>\n",
       "    </tr>\n",
       "  </tbody>\n",
       "</table>\n",
       "<p>167 rows × 7 columns</p>\n",
       "</div>"
      ],
      "text/plain": [
       "          Porosity   TOC  Quartz  Calcite  RockClass_DO  RockClass_LS  \\\n",
       "Depth                                                                   \n",
       "4644.985      6.67  4.15    38.6      0.0             0             0   \n",
       "4647.085      6.07  4.25    48.6      6.2             0             0   \n",
       "4649.185      4.91  3.40    41.0      2.5             0             0   \n",
       "4651.285      6.00  0.39     4.6     66.4             0             1   \n",
       "4653.490      5.63  3.91    37.0      0.6             0             0   \n",
       "...            ...   ...     ...      ...           ...           ...   \n",
       "5003.455      3.77  3.91    26.7     15.4             1             0   \n",
       "5004.715      4.60  3.52    31.0      0.0             1             0   \n",
       "5010.490      4.16  2.47    16.0      8.7             1             0   \n",
       "5012.170      4.38  2.32    24.8     19.8             1             0   \n",
       "5014.375      4.38  3.66    20.2     11.9             1             0   \n",
       "\n",
       "          RockClass_SS  \n",
       "Depth                   \n",
       "4644.985             1  \n",
       "4647.085             1  \n",
       "4649.185             1  \n",
       "4651.285             0  \n",
       "4653.490             1  \n",
       "...                ...  \n",
       "5003.455             0  \n",
       "5004.715             0  \n",
       "5010.490             0  \n",
       "5012.170             0  \n",
       "5014.375             0  \n",
       "\n",
       "[167 rows x 7 columns]"
      ]
     },
     "execution_count": 16,
     "metadata": {},
     "output_type": "execute_result"
    }
   ],
   "source": [
    "c_mlabel"
   ]
  },
  {
   "cell_type": "markdown",
   "metadata": {},
   "source": [
    "###### Method 2: We can do that using the pandas get_dummies on a specific column"
   ]
  },
  {
   "cell_type": "code",
   "execution_count": 17,
   "metadata": {},
   "outputs": [
    {
     "data": {
      "text/html": [
       "<div>\n",
       "<style scoped>\n",
       "    .dataframe tbody tr th:only-of-type {\n",
       "        vertical-align: middle;\n",
       "    }\n",
       "\n",
       "    .dataframe tbody tr th {\n",
       "        vertical-align: top;\n",
       "    }\n",
       "\n",
       "    .dataframe thead th {\n",
       "        text-align: right;\n",
       "    }\n",
       "</style>\n",
       "<table border=\"1\" class=\"dataframe\">\n",
       "  <thead>\n",
       "    <tr style=\"text-align: right;\">\n",
       "      <th></th>\n",
       "      <th>Porosity</th>\n",
       "      <th>TOC</th>\n",
       "      <th>Quartz</th>\n",
       "      <th>Calcite</th>\n",
       "      <th>RockClass_DO</th>\n",
       "      <th>RockClass_LS</th>\n",
       "      <th>RockClass_SS</th>\n",
       "    </tr>\n",
       "    <tr>\n",
       "      <th>Depth</th>\n",
       "      <th></th>\n",
       "      <th></th>\n",
       "      <th></th>\n",
       "      <th></th>\n",
       "      <th></th>\n",
       "      <th></th>\n",
       "      <th></th>\n",
       "    </tr>\n",
       "  </thead>\n",
       "  <tbody>\n",
       "    <tr>\n",
       "      <th>4644.985</th>\n",
       "      <td>6.67</td>\n",
       "      <td>4.15</td>\n",
       "      <td>38.6</td>\n",
       "      <td>0.0</td>\n",
       "      <td>0</td>\n",
       "      <td>0</td>\n",
       "      <td>1</td>\n",
       "    </tr>\n",
       "    <tr>\n",
       "      <th>4647.085</th>\n",
       "      <td>6.07</td>\n",
       "      <td>4.25</td>\n",
       "      <td>48.6</td>\n",
       "      <td>6.2</td>\n",
       "      <td>0</td>\n",
       "      <td>0</td>\n",
       "      <td>1</td>\n",
       "    </tr>\n",
       "    <tr>\n",
       "      <th>4649.185</th>\n",
       "      <td>4.91</td>\n",
       "      <td>3.40</td>\n",
       "      <td>41.0</td>\n",
       "      <td>2.5</td>\n",
       "      <td>0</td>\n",
       "      <td>0</td>\n",
       "      <td>1</td>\n",
       "    </tr>\n",
       "    <tr>\n",
       "      <th>4651.285</th>\n",
       "      <td>6.00</td>\n",
       "      <td>0.39</td>\n",
       "      <td>4.6</td>\n",
       "      <td>66.4</td>\n",
       "      <td>0</td>\n",
       "      <td>1</td>\n",
       "      <td>0</td>\n",
       "    </tr>\n",
       "    <tr>\n",
       "      <th>4653.490</th>\n",
       "      <td>5.63</td>\n",
       "      <td>3.91</td>\n",
       "      <td>37.0</td>\n",
       "      <td>0.6</td>\n",
       "      <td>0</td>\n",
       "      <td>0</td>\n",
       "      <td>1</td>\n",
       "    </tr>\n",
       "  </tbody>\n",
       "</table>\n",
       "</div>"
      ],
      "text/plain": [
       "          Porosity   TOC  Quartz  Calcite  RockClass_DO  RockClass_LS  \\\n",
       "Depth                                                                   \n",
       "4644.985      6.67  4.15    38.6      0.0             0             0   \n",
       "4647.085      6.07  4.25    48.6      6.2             0             0   \n",
       "4649.185      4.91  3.40    41.0      2.5             0             0   \n",
       "4651.285      6.00  0.39     4.6     66.4             0             1   \n",
       "4653.490      5.63  3.91    37.0      0.6             0             0   \n",
       "\n",
       "          RockClass_SS  \n",
       "Depth                   \n",
       "4644.985             1  \n",
       "4647.085             1  \n",
       "4649.185             1  \n",
       "4651.285             0  \n",
       "4653.490             1  "
      ]
     },
     "execution_count": 17,
     "metadata": {},
     "output_type": "execute_result"
    }
   ],
   "source": [
    "c = pd.get_dummies(c, columns=['RockClass']) # using label name\n",
    "c.head()"
   ]
  },
  {
   "cell_type": "markdown",
   "metadata": {},
   "source": [
    "###### Method 3: We can do that using the sklearn onehotencder"
   ]
  },
  {
   "cell_type": "code",
   "execution_count": 18,
   "metadata": {},
   "outputs": [
    {
     "data": {
      "text/plain": [
       "Porosity        False\n",
       "TOC             False\n",
       "Quartz          False\n",
       "Calcite         False\n",
       "RockClass_DO    False\n",
       "RockClass_LS    False\n",
       "RockClass_SS    False\n",
       "dtype: bool"
      ]
     },
     "execution_count": 18,
     "metadata": {},
     "output_type": "execute_result"
    }
   ],
   "source": [
    "c_mlabel.isna().any() #check if NaN are present"
   ]
  },
  {
   "cell_type": "markdown",
   "metadata": {},
   "source": []
  },
  {
   "cell_type": "code",
   "execution_count": null,
   "metadata": {},
   "outputs": [],
   "source": []
  },
  {
   "cell_type": "code",
   "execution_count": null,
   "metadata": {},
   "outputs": [],
   "source": []
  },
  {
   "cell_type": "code",
   "execution_count": null,
   "metadata": {},
   "outputs": [],
   "source": []
  },
  {
   "cell_type": "code",
   "execution_count": null,
   "metadata": {},
   "outputs": [],
   "source": []
  },
  {
   "cell_type": "markdown",
   "metadata": {},
   "source": [
    "## Supervised Learning - Classification\n",
    "\n",
    "\n",
    "### Train a machine learning model (classifier) to classify a rock as Dolomite or Not-Dolomite based on porosity, quartz, calcite, and TOC "
   ]
  },
  {
   "cell_type": "markdown",
   "metadata": {},
   "source": [
    "### Define features"
   ]
  },
  {
   "cell_type": "code",
   "execution_count": 19,
   "metadata": {},
   "outputs": [
    {
     "data": {
      "text/plain": [
       "array([[ 6.67,  4.15, 38.6 ,  0.  ],\n",
       "       [ 6.07,  4.25, 48.6 ,  6.2 ],\n",
       "       [ 4.91,  3.4 , 41.  ,  2.5 ],\n",
       "       [ 6.  ,  0.39,  4.6 , 66.4 ],\n",
       "       [ 5.63,  3.91, 37.  ,  0.6 ],\n",
       "       [ 5.85,  3.91, 40.6 ,  2.7 ],\n",
       "       [ 0.88,  3.5 , 29.3 ,  5.5 ],\n",
       "       [ 6.14,  4.12, 43.1 , 10.  ],\n",
       "       [ 5.27,  3.61, 33.7 , 21.9 ],\n",
       "       [ 6.02,  5.92, 54.8 ,  0.  ],\n",
       "       [ 4.38,  3.15, 50.  ,  7.  ],\n",
       "       [ 5.27,  4.68, 42.1 , 11.5 ],\n",
       "       [ 4.42,  2.49, 27.3 , 21.1 ],\n",
       "       [ 5.55,  3.91, 35.6 , 25.3 ],\n",
       "       [ 5.09,  3.49, 40.9 ,  0.4 ],\n",
       "       [ 2.52,  2.5 , 20.4 , 31.  ],\n",
       "       [ 2.7 ,  1.51,  3.7 , 28.5 ],\n",
       "       [ 2.77,  3.91, 11.1 , 36.8 ],\n",
       "       [ 2.09,  0.83,  6.8 , 61.3 ],\n",
       "       [ 1.96,  1.14, 10.6 , 45.8 ],\n",
       "       [ 2.13,  1.29, 10.3 , 53.4 ],\n",
       "       [ 2.74,  1.44,  8.4 , 56.7 ],\n",
       "       [ 2.03,  0.49,  1.8 , 68.8 ],\n",
       "       [ 2.16,  0.64,  0.  , 78.6 ],\n",
       "       [ 2.65,  0.8 ,  4.3 , 74.  ],\n",
       "       [ 2.34,  0.92,  6.4 , 56.8 ],\n",
       "       [ 1.79,  0.53,  0.  , 67.4 ],\n",
       "       [ 2.61,  1.09, 12.7 , 50.5 ],\n",
       "       [ 4.38,  1.12, 11.3 , 48.7 ],\n",
       "       [ 6.38,  2.84,  3.9 ,  0.  ],\n",
       "       [ 3.39,  2.23, 18.1 , 13.1 ],\n",
       "       [ 6.39,  2.87,  5.  ,  0.6 ],\n",
       "       [ 5.38,  2.17,  4.4 ,  9.4 ],\n",
       "       [ 3.34,  1.67, 14.4 , 32.8 ],\n",
       "       [ 2.73,  1.07,  2.3 , 42.3 ],\n",
       "       [ 5.22,  2.34, 10.4 , 16.3 ],\n",
       "       [ 4.83,  2.44,  9.8 , 11.1 ],\n",
       "       [ 3.66,  2.69,  7.2 , 10.9 ],\n",
       "       [ 1.82,  1.11,  6.3 , 56.8 ],\n",
       "       [ 1.49,  0.97,  6.7 , 62.3 ],\n",
       "       [ 3.19,  1.67, 14.2 , 28.8 ],\n",
       "       [ 4.13,  3.46, 30.3 ,  3.7 ],\n",
       "       [ 3.82,  3.23, 20.  , 24.3 ],\n",
       "       [ 4.59,  4.72, 36.7 ,  8.1 ],\n",
       "       [ 3.72,  2.57, 29.4 , 27.6 ],\n",
       "       [ 5.57,  4.78, 30.6 ,  0.  ],\n",
       "       [ 5.3 ,  5.58, 43.8 ,  2.8 ],\n",
       "       [ 4.14,  3.2 , 39.4 , 10.4 ],\n",
       "       [ 5.11,  6.01, 34.8 ,  0.  ],\n",
       "       [ 3.86,  3.46, 37.8 , 10.2 ],\n",
       "       [ 4.8 ,  4.68, 38.7 ,  1.5 ],\n",
       "       [ 4.38,  5.2 , 29.  ,  0.  ],\n",
       "       [ 4.38,  4.87, 25.3 ,  6.3 ],\n",
       "       [ 4.14,  4.36, 29.1 ,  9.2 ],\n",
       "       [ 1.47,  1.24, 14.4 , 28.5 ],\n",
       "       [ 5.88,  5.15, 39.5 ,  0.  ],\n",
       "       [ 7.11,  3.91, 59.4 ,  0.  ],\n",
       "       [ 6.86,  4.42, 54.7 ,  0.  ],\n",
       "       [ 6.17,  3.59, 51.2 ,  0.  ],\n",
       "       [ 6.31,  4.69, 44.8 ,  0.  ],\n",
       "       [ 4.64,  3.96, 35.7 ,  5.5 ],\n",
       "       [ 5.19,  2.9 , 42.8 ,  0.  ],\n",
       "       [ 4.38,  2.  , 25.4 , 34.9 ],\n",
       "       [ 6.15,  3.86, 43.7 ,  0.  ],\n",
       "       [ 5.81,  5.02, 41.8 ,  0.  ],\n",
       "       [ 5.28,  3.91, 37.5 ,  0.  ],\n",
       "       [ 1.8 ,  0.8 , 12.1 , 61.9 ],\n",
       "       [ 4.51,  3.35, 20.9 ,  4.7 ],\n",
       "       [ 2.59,  1.3 ,  8.5 , 52.4 ],\n",
       "       [ 5.18,  3.72, 41.9 ,  0.  ],\n",
       "       [ 6.06,  3.91, 38.7 ,  0.  ],\n",
       "       [ 5.89,  4.53, 47.  ,  0.  ],\n",
       "       [ 5.76,  4.36, 44.2 ,  0.  ],\n",
       "       [ 4.99,  4.66, 31.2 , 22.4 ],\n",
       "       [ 5.72,  5.18, 44.1 ,  0.  ],\n",
       "       [ 5.12,  5.76, 37.4 ,  0.5 ],\n",
       "       [ 5.75,  5.09, 41.7 ,  4.1 ],\n",
       "       [ 4.75,  2.97, 36.2 , 29.9 ],\n",
       "       [ 1.41,  4.91, 25.5 ,  2.9 ],\n",
       "       [ 4.48,  3.89, 23.6 , 12.3 ],\n",
       "       [ 5.22,  4.69, 33.7 ,  0.7 ],\n",
       "       [ 4.4 ,  2.64, 23.2 ,  2.4 ],\n",
       "       [ 5.34,  4.  , 33.  ,  3.1 ],\n",
       "       [ 5.54,  3.71, 40.9 ,  2.8 ],\n",
       "       [ 7.02,  3.38, 38.  ,  0.  ],\n",
       "       [ 6.71,  4.11, 51.4 ,  0.  ],\n",
       "       [ 5.91,  5.3 , 50.3 ,  0.  ],\n",
       "       [ 6.08,  4.5 , 59.2 ,  0.  ],\n",
       "       [ 4.1 ,  1.79,  9.3 ,  6.3 ],\n",
       "       [ 4.74,  3.79, 26.  ,  0.  ],\n",
       "       [ 6.  ,  4.06, 43.8 ,  0.  ],\n",
       "       [ 3.4 ,  3.66, 38.6 ,  0.  ],\n",
       "       [ 5.1 ,  2.82,  9.7 ,  2.8 ],\n",
       "       [ 4.39,  3.72, 37.  ,  0.  ],\n",
       "       [ 4.8 ,  4.61, 35.  ,  0.  ],\n",
       "       [ 3.54,  5.35, 34.5 ,  8.7 ],\n",
       "       [ 3.22,  4.27, 34.1 ,  0.  ],\n",
       "       [ 4.98,  4.  , 26.5 ,  0.  ],\n",
       "       [ 4.06,  6.23, 30.4 ,  0.  ],\n",
       "       [ 4.4 ,  4.64, 34.  ,  0.  ],\n",
       "       [ 3.97,  5.41, 33.6 ,  0.  ],\n",
       "       [ 3.17,  1.98, 19.1 , 44.  ],\n",
       "       [ 4.63,  4.62, 35.7 ,  0.  ],\n",
       "       [ 4.73,  5.55, 39.5 ,  0.  ],\n",
       "       [ 4.23,  3.43, 36.1 ,  0.  ],\n",
       "       [ 8.05,  3.48, 26.5 ,  0.  ],\n",
       "       [ 4.64,  4.85, 23.7 ,  0.  ],\n",
       "       [ 5.04,  4.94, 28.5 ,  0.  ],\n",
       "       [ 4.47,  4.99, 28.2 ,  0.  ],\n",
       "       [ 4.38,  5.09, 28.1 ,  0.  ],\n",
       "       [ 4.01,  4.92, 33.2 ,  0.  ],\n",
       "       [ 3.77,  4.42, 33.2 ,  0.  ],\n",
       "       [ 3.38,  6.76, 31.1 ,  0.  ],\n",
       "       [ 3.01,  5.86, 32.6 ,  0.  ],\n",
       "       [ 3.58,  5.49, 30.8 ,  0.2 ],\n",
       "       [ 3.99,  6.81, 46.3 ,  0.  ],\n",
       "       [ 5.43,  3.67, 37.8 ,  0.  ],\n",
       "       [ 4.38,  3.91, 24.5 ,  0.  ],\n",
       "       [ 2.05,  6.77, 20.1 ,  0.  ],\n",
       "       [ 4.82,  5.83, 40.4 ,  0.  ],\n",
       "       [ 4.13,  6.69, 42.1 ,  0.  ],\n",
       "       [ 4.51,  5.86, 32.1 ,  0.  ],\n",
       "       [ 3.96,  7.48, 29.7 ,  0.  ],\n",
       "       [ 3.42,  7.21, 26.7 ,  0.  ],\n",
       "       [ 3.77,  5.71, 37.9 ,  0.  ],\n",
       "       [ 4.48,  4.72, 34.8 ,  0.  ],\n",
       "       [ 4.81,  3.72, 37.8 ,  0.  ],\n",
       "       [ 3.26,  5.01, 42.3 ,  3.7 ],\n",
       "       [ 3.41,  4.18, 36.3 ,  0.  ],\n",
       "       [ 4.85,  4.98, 43.2 ,  0.  ],\n",
       "       [ 3.92,  5.1 , 28.4 ,  0.  ],\n",
       "       [ 3.59,  5.79, 28.1 ,  0.  ],\n",
       "       [ 1.41,  0.72,  5.2 , 75.7 ],\n",
       "       [ 3.57,  6.31, 23.1 ,  0.  ],\n",
       "       [ 3.32,  3.55, 16.8 ,  0.  ],\n",
       "       [ 3.45,  6.94, 29.6 ,  0.  ],\n",
       "       [ 5.23,  3.8 , 20.8 ,  0.  ],\n",
       "       [ 4.38,  5.11, 17.7 ,  4.7 ],\n",
       "       [ 4.38,  5.07, 19.1 ,  0.  ],\n",
       "       [ 3.74,  6.73, 17.3 ,  0.  ],\n",
       "       [ 3.75,  5.39, 32.6 ,  0.  ],\n",
       "       [ 4.75,  3.59, 15.2 ,  0.  ],\n",
       "       [ 3.54,  2.73, 10.9 ,  5.2 ],\n",
       "       [ 3.9 ,  4.88, 31.7 ,  0.  ],\n",
       "       [ 4.2 ,  5.49, 12.8 ,  2.7 ],\n",
       "       [ 3.4 ,  4.78, 10.8 , 22.4 ],\n",
       "       [ 3.66,  2.67, 10.8 ,  5.5 ],\n",
       "       [ 4.25,  3.09, 20.  ,  4.7 ],\n",
       "       [ 3.51,  4.38, 18.2 ,  7.2 ],\n",
       "       [ 3.34,  6.75, 12.8 ,  0.  ],\n",
       "       [ 4.08,  3.94, 19.5 ,  0.  ],\n",
       "       [ 2.54,  4.86, 17.6 , 25.7 ],\n",
       "       [ 1.35,  3.91,  6.4 , 67.  ],\n",
       "       [ 4.38,  3.91, 30.  , 23.5 ],\n",
       "       [ 2.81,  1.75,  8.7 ,  8.1 ],\n",
       "       [ 5.41,  2.83, 33.4 ,  1.1 ],\n",
       "       [ 6.37,  4.99, 43.4 ,  1.8 ],\n",
       "       [ 3.84,  3.42, 39.3 , 18.  ],\n",
       "       [ 4.65,  4.56, 50.  ,  9.4 ],\n",
       "       [ 4.39,  2.78, 21.6 ,  7.9 ],\n",
       "       [ 3.46,  2.91, 29.3 ,  7.6 ],\n",
       "       [ 3.86,  1.53, 43.1 ,  7.8 ],\n",
       "       [ 3.77,  3.91, 26.7 , 15.4 ],\n",
       "       [ 4.6 ,  3.52, 31.  ,  0.  ],\n",
       "       [ 4.16,  2.47, 16.  ,  8.7 ],\n",
       "       [ 4.38,  2.32, 24.8 , 19.8 ],\n",
       "       [ 4.38,  3.66, 20.2 , 11.9 ]])"
      ]
     },
     "execution_count": 19,
     "metadata": {},
     "output_type": "execute_result"
    }
   ],
   "source": [
    "X = c.iloc[:,:4].values # features\n",
    "\n",
    "X  "
   ]
  },
  {
   "cell_type": "code",
   "execution_count": 20,
   "metadata": {},
   "outputs": [
    {
     "data": {
      "text/plain": [
       "(167, 4)"
      ]
     },
     "execution_count": 20,
     "metadata": {},
     "output_type": "execute_result"
    }
   ],
   "source": [
    "X.shape # 4 features"
   ]
  },
  {
   "cell_type": "code",
   "execution_count": 23,
   "metadata": {},
   "outputs": [
    {
     "data": {
      "text/plain": [
       "array([0, 0, 0, 0, 0, 0, 1, 0, 0, 0, 0, 0, 1, 0, 0, 0, 0, 0, 0, 0, 0, 0,\n",
       "       0, 0, 0, 0, 0, 0, 0, 1, 1, 1, 1, 0, 0, 1, 1, 1, 0, 0, 0, 1, 1, 0,\n",
       "       1, 0, 0, 1, 0, 1, 0, 1, 1, 1, 0, 0, 0, 0, 0, 0, 0, 0, 0, 0, 0, 0,\n",
       "       0, 1, 0, 0, 0, 0, 0, 1, 0, 0, 0, 1, 1, 1, 0, 1, 0, 0, 0, 0, 0, 0,\n",
       "       1, 1, 0, 1, 1, 1, 0, 1, 1, 1, 1, 1, 1, 0, 0, 0, 1, 0, 1, 1, 1, 1,\n",
       "       1, 1, 1, 1, 1, 0, 0, 1, 1, 0, 0, 1, 1, 1, 1, 1, 0, 1, 1, 0, 1, 1,\n",
       "       0, 1, 1, 1, 1, 1, 1, 1, 1, 1, 1, 1, 1, 1, 1, 1, 1, 1, 1, 1, 0, 1,\n",
       "       1, 0, 0, 1, 0, 1, 1, 1, 1, 1, 1, 1, 1], dtype=uint8)"
      ]
     },
     "execution_count": 23,
     "metadata": {},
     "output_type": "execute_result"
    }
   ],
   "source": [
    "y_DS = c_mlabel.iloc[:,4].values\n",
    "y_DS.shape\n",
    "# Not Dol, Yes Dol\n",
    "y_DS # label.... Not Dol , Yes Dol"
   ]
  },
  {
   "cell_type": "code",
   "execution_count": 24,
   "metadata": {},
   "outputs": [
    {
     "data": {
      "text/plain": [
       "array([82, 85], dtype=int64)"
      ]
     },
     "execution_count": 24,
     "metadata": {},
     "output_type": "execute_result"
    }
   ],
   "source": [
    "np.bincount(y_DS)   # Not Dol, Yes Dol"
   ]
  },
  {
   "cell_type": "code",
   "execution_count": 25,
   "metadata": {},
   "outputs": [],
   "source": [
    "from sklearn.model_selection import train_test_split\n",
    "X_tr, X_ts, y_tr_DS, y_ts_DS = train_test_split(X, y_DS, stratify=y_DS)"
   ]
  },
  {
   "cell_type": "code",
   "execution_count": 26,
   "metadata": {},
   "outputs": [
    {
     "name": "stdout",
     "output_type": "stream",
     "text": [
      "logistic regression test score: 0.857143\n",
      "logistic regression train score: 0.848000\n",
      "knn classifier test score: 0.833333\n",
      "knn classifier train score: 0.920000\n",
      "support vector test score: 1.000000\n",
      "support vector train score: 1.000000\n",
      "random forest test score: 0.928571\n",
      "random forest train score: 1.000000\n"
     ]
    }
   ],
   "source": [
    "from sklearn.linear_model import LogisticRegression\n",
    "lr1 = LogisticRegression().fit(X_tr, y_tr_DS)\n",
    "print(\"logistic regression test score: %f\" % lr1.score(X_ts, y_ts_DS))\n",
    "print(\"logistic regression train score: %f\" % lr1.score(X_tr, y_tr_DS))\n",
    "\n",
    "from sklearn.neighbors import KNeighborsClassifier\n",
    "kn1 = KNeighborsClassifier().fit(X_tr, y_tr_DS)\n",
    "print(\"knn classifier test score: %f\" % kn1.score(X_ts, y_ts_DS))\n",
    "print(\"knn classifier train score: %f\" % kn1.score(X_tr, y_tr_DS))\n",
    "\n",
    "from sklearn.svm import SVC\n",
    "svc1 = SVC(kernel='poly', C=1, gamma=0.1, random_state=0).fit(X_tr, y_tr_DS)\n",
    "print(\"support vector test score: %f\" % svc1.score(X_ts, y_ts_DS))\n",
    "print(\"support vector train score: %f\" % svc1.score(X_tr, y_tr_DS))\n",
    "\n",
    "from sklearn.ensemble import RandomForestClassifier\n",
    "rf1 = RandomForestClassifier(n_estimators=200, max_depth=4, random_state=0).fit(X_tr, y_tr_DS)\n",
    "print(\"random forest test score: %f\" % rf1.score(X_ts, y_ts_DS))\n",
    "print(\"random forest train score: %f\" % rf1.score(X_tr, y_tr_DS))\n",
    "\n",
    "## number of trees around 100 to 500 are suitable for simple cases"
   ]
  },
  {
   "cell_type": "markdown",
   "metadata": {},
   "source": [
    "#### Do the same excerices to predict Limestone or No Limestone?"
   ]
  },
  {
   "cell_type": "code",
   "execution_count": 27,
   "metadata": {},
   "outputs": [],
   "source": [
    "## y_LS = "
   ]
  },
  {
   "cell_type": "code",
   "execution_count": 28,
   "metadata": {},
   "outputs": [],
   "source": []
  },
  {
   "cell_type": "code",
   "execution_count": 29,
   "metadata": {},
   "outputs": [
    {
     "name": "stdout",
     "output_type": "stream",
     "text": [
      "support vector test score: 1.000000\n",
      "support vector train score: 1.000000\n"
     ]
    }
   ],
   "source": []
  },
  {
   "cell_type": "markdown",
   "metadata": {},
   "source": [
    "# Multiclass Classification\n",
    "### Random Forest\n"
   ]
  },
  {
   "cell_type": "code",
   "execution_count": 31,
   "metadata": {},
   "outputs": [
    {
     "data": {
      "text/plain": [
       "array([[0, 0, 1],\n",
       "       [0, 0, 1],\n",
       "       [0, 0, 1],\n",
       "       [0, 1, 0],\n",
       "       [0, 0, 1],\n",
       "       [0, 0, 1],\n",
       "       [1, 0, 0],\n",
       "       [0, 0, 1],\n",
       "       [0, 0, 1],\n",
       "       [0, 0, 1],\n",
       "       [0, 0, 1],\n",
       "       [0, 0, 1],\n",
       "       [1, 0, 0],\n",
       "       [0, 0, 1],\n",
       "       [0, 0, 1],\n",
       "       [0, 1, 0],\n",
       "       [0, 1, 0],\n",
       "       [0, 1, 0],\n",
       "       [0, 1, 0],\n",
       "       [0, 1, 0],\n",
       "       [0, 1, 0],\n",
       "       [0, 1, 0],\n",
       "       [0, 1, 0],\n",
       "       [0, 1, 0],\n",
       "       [0, 1, 0],\n",
       "       [0, 1, 0],\n",
       "       [0, 1, 0],\n",
       "       [0, 1, 0],\n",
       "       [0, 1, 0],\n",
       "       [1, 0, 0],\n",
       "       [1, 0, 0],\n",
       "       [1, 0, 0],\n",
       "       [1, 0, 0],\n",
       "       [0, 1, 0],\n",
       "       [0, 1, 0],\n",
       "       [1, 0, 0],\n",
       "       [1, 0, 0],\n",
       "       [1, 0, 0],\n",
       "       [0, 1, 0],\n",
       "       [0, 1, 0],\n",
       "       [0, 1, 0],\n",
       "       [1, 0, 0],\n",
       "       [1, 0, 0],\n",
       "       [0, 0, 1],\n",
       "       [1, 0, 0],\n",
       "       [0, 0, 1],\n",
       "       [0, 0, 1],\n",
       "       [1, 0, 0],\n",
       "       [0, 0, 1],\n",
       "       [1, 0, 0],\n",
       "       [0, 0, 1],\n",
       "       [1, 0, 0],\n",
       "       [1, 0, 0],\n",
       "       [1, 0, 0],\n",
       "       [0, 1, 0],\n",
       "       [0, 0, 1],\n",
       "       [0, 0, 1],\n",
       "       [0, 0, 1],\n",
       "       [0, 0, 1],\n",
       "       [0, 0, 1],\n",
       "       [0, 0, 1],\n",
       "       [0, 0, 1],\n",
       "       [0, 1, 0],\n",
       "       [0, 0, 1],\n",
       "       [0, 0, 1],\n",
       "       [0, 0, 1],\n",
       "       [0, 1, 0],\n",
       "       [1, 0, 0],\n",
       "       [0, 1, 0],\n",
       "       [0, 0, 1],\n",
       "       [0, 0, 1],\n",
       "       [0, 0, 1],\n",
       "       [0, 0, 1],\n",
       "       [1, 0, 0],\n",
       "       [0, 0, 1],\n",
       "       [0, 0, 1],\n",
       "       [0, 0, 1],\n",
       "       [1, 0, 0],\n",
       "       [1, 0, 0],\n",
       "       [1, 0, 0],\n",
       "       [0, 0, 1],\n",
       "       [1, 0, 0],\n",
       "       [0, 0, 1],\n",
       "       [0, 0, 1],\n",
       "       [0, 0, 1],\n",
       "       [0, 0, 1],\n",
       "       [0, 0, 1],\n",
       "       [0, 0, 1],\n",
       "       [1, 0, 0],\n",
       "       [1, 0, 0],\n",
       "       [0, 0, 1],\n",
       "       [1, 0, 0],\n",
       "       [1, 0, 0],\n",
       "       [1, 0, 0],\n",
       "       [0, 0, 1],\n",
       "       [1, 0, 0],\n",
       "       [1, 0, 0],\n",
       "       [1, 0, 0],\n",
       "       [1, 0, 0],\n",
       "       [1, 0, 0],\n",
       "       [1, 0, 0],\n",
       "       [0, 1, 0],\n",
       "       [0, 0, 1],\n",
       "       [0, 0, 1],\n",
       "       [1, 0, 0],\n",
       "       [0, 0, 1],\n",
       "       [1, 0, 0],\n",
       "       [1, 0, 0],\n",
       "       [1, 0, 0],\n",
       "       [1, 0, 0],\n",
       "       [1, 0, 0],\n",
       "       [1, 0, 0],\n",
       "       [1, 0, 0],\n",
       "       [1, 0, 0],\n",
       "       [1, 0, 0],\n",
       "       [0, 0, 1],\n",
       "       [0, 0, 1],\n",
       "       [1, 0, 0],\n",
       "       [1, 0, 0],\n",
       "       [0, 0, 1],\n",
       "       [0, 0, 1],\n",
       "       [1, 0, 0],\n",
       "       [1, 0, 0],\n",
       "       [1, 0, 0],\n",
       "       [1, 0, 0],\n",
       "       [1, 0, 0],\n",
       "       [0, 0, 1],\n",
       "       [1, 0, 0],\n",
       "       [1, 0, 0],\n",
       "       [0, 0, 1],\n",
       "       [1, 0, 0],\n",
       "       [1, 0, 0],\n",
       "       [0, 1, 0],\n",
       "       [1, 0, 0],\n",
       "       [1, 0, 0],\n",
       "       [1, 0, 0],\n",
       "       [1, 0, 0],\n",
       "       [1, 0, 0],\n",
       "       [1, 0, 0],\n",
       "       [1, 0, 0],\n",
       "       [1, 0, 0],\n",
       "       [1, 0, 0],\n",
       "       [1, 0, 0],\n",
       "       [1, 0, 0],\n",
       "       [1, 0, 0],\n",
       "       [1, 0, 0],\n",
       "       [1, 0, 0],\n",
       "       [1, 0, 0],\n",
       "       [1, 0, 0],\n",
       "       [1, 0, 0],\n",
       "       [1, 0, 0],\n",
       "       [1, 0, 0],\n",
       "       [0, 1, 0],\n",
       "       [1, 0, 0],\n",
       "       [1, 0, 0],\n",
       "       [0, 0, 1],\n",
       "       [0, 0, 1],\n",
       "       [1, 0, 0],\n",
       "       [0, 0, 1],\n",
       "       [1, 0, 0],\n",
       "       [1, 0, 0],\n",
       "       [1, 0, 0],\n",
       "       [1, 0, 0],\n",
       "       [1, 0, 0],\n",
       "       [1, 0, 0],\n",
       "       [1, 0, 0],\n",
       "       [1, 0, 0]], dtype=uint8)"
      ]
     },
     "execution_count": 31,
     "metadata": {},
     "output_type": "execute_result"
    }
   ],
   "source": [
    "y_rf = c_mlabel.iloc[:,4:].values\n",
    "y_rf"
   ]
  },
  {
   "cell_type": "code",
   "execution_count": 32,
   "metadata": {},
   "outputs": [],
   "source": [
    "# split the data into train-test dataset \n",
    "\n",
    "from sklearn.model_selection import train_test_split\n",
    "X_tr, X_ts, y_tr, y_ts = train_test_split(X, y_rf, stratify=y_rf)\n",
    "\n",
    "\n",
    "# can other proprtion be used? \n",
    "# what is random state?"
   ]
  },
  {
   "cell_type": "code",
   "execution_count": 33,
   "metadata": {},
   "outputs": [
    {
     "name": "stdout",
     "output_type": "stream",
     "text": [
      "random forest test score: 0.952381\n",
      "random forest train score: 0.992000\n"
     ]
    }
   ],
   "source": [
    "from sklearn.ensemble import RandomForestClassifier\n",
    "rf1 = RandomForestClassifier(n_estimators=200, max_depth=4, random_state=0).fit(X_tr, y_tr)\n",
    "print(\"random forest test score: %f\" % rf1.score(X_ts, y_ts))\n",
    "print(\"random forest train score: %f\" % rf1.score(X_tr, y_tr))"
   ]
  },
  {
   "cell_type": "code",
   "execution_count": 34,
   "metadata": {},
   "outputs": [
    {
     "data": {
      "text/plain": [
       "[13, 2, 6, 12, 1, 3]"
      ]
     },
     "execution_count": 34,
     "metadata": {},
     "output_type": "execute_result"
    }
   ],
   "source": [
    "import random\n",
    "random.sample(range(1, 20), 6)"
   ]
  },
  {
   "cell_type": "code",
   "execution_count": 35,
   "metadata": {},
   "outputs": [
    {
     "data": {
      "text/plain": [
       "array([[ 5.22,  4.69, 33.7 ,  0.7 ],\n",
       "       [ 5.19,  2.9 , 42.8 ,  0.  ],\n",
       "       [ 4.4 ,  2.64, 23.2 ,  2.4 ],\n",
       "       [ 4.38,  5.07, 19.1 ,  0.  ],\n",
       "       [ 6.37,  4.99, 43.4 ,  1.8 ],\n",
       "       [ 3.77,  5.71, 37.9 ,  0.  ]])"
      ]
     },
     "execution_count": 35,
     "metadata": {},
     "output_type": "execute_result"
    }
   ],
   "source": [
    "# Due to the lack of core measurement, we randomly select three rows from test data\n",
    "\n",
    "import random\n",
    "\n",
    "a = random.sample(range(1, 20), 6)\n",
    "\n",
    "X_new = X_ts[a,:]\n",
    "X_new"
   ]
  },
  {
   "cell_type": "markdown",
   "metadata": {},
   "source": [
    "#####  Use Knn for Multiclass Classification"
   ]
  },
  {
   "cell_type": "code",
   "execution_count": null,
   "metadata": {},
   "outputs": [],
   "source": [
    "from sklearn.neighbors import KNeighborsClassifier\n",
    "kn=KNeighborsClassifier"
   ]
  }
 ],
 "metadata": {
  "kernelspec": {
   "display_name": "Python 3",
   "language": "python",
   "name": "python3"
  },
  "language_info": {
   "codemirror_mode": {
    "name": "ipython",
    "version": 3
   },
   "file_extension": ".py",
   "mimetype": "text/x-python",
   "name": "python",
   "nbconvert_exporter": "python",
   "pygments_lexer": "ipython3",
   "version": "3.8.8"
  }
 },
 "nbformat": 4,
 "nbformat_minor": 4
}
